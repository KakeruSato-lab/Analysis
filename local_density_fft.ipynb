{
 "cells": [
  {
   "cell_type": "code",
   "execution_count": 53,
   "metadata": {
    "collapsed": true,
    "pycharm": {
     "name": "#%%\n"
    }
   },
   "outputs": [],
   "source": [
    "import numpy as np\n",
    "import matplotlib.pyplot as pl\n",
    "import matplotlib.cm as cm\n",
    "from pathlib import Path\n",
    "import norm\n",
    "import physconst as pc\n",
    "import ffmpeg as fp\n",
    "from fft3_1 import FFT"
   ]
  },
  {
   "cell_type": "code",
   "execution_count": 54,
   "outputs": [],
   "source": [
    "data_dir = Path('/Users/satoukakeru/lab/Jet_Torus/runs')\n",
    "run_ids = ['00a2']"
   ],
   "metadata": {
    "collapsed": false,
    "pycharm": {
     "name": "#%%\n"
    }
   }
  },
  {
   "cell_type": "code",
   "execution_count": 88,
   "outputs": [],
   "source": [
    "data_fbase = 'data'\n",
    "data_type = 'flt'\n",
    "nc = 128\n",
    "ndata = [range(302)]\n",
    "grid = [nc, nc, nc]\n",
    "nvar = 7\n",
    "x1_min, x1_max = -5., 5.  # code units\n",
    "x2_min, x2_max = -5., 5.  # code units\n",
    "x3_min, x3_max = -5., 5.  # code units\n",
    "dx1 = (x1_max - x1_min) / grid[0]\n",
    "dx2 = (x2_max - x2_min) / grid[1]\n",
    "dx3 = (x3_max - x3_min) / grid[2]\n",
    "cell_volume = dx1 * dx2 * dx3\n",
    "\n",
    "nm = norm.PhysNorm(x=pc.pc, v=pc.c, dens=0.60364*pc.amu, temp=pc.c*pc.c*pc.amu/pc.kboltz, curr=1.)\n",
    "fnum2year = nm.t / pc.yr * 24.5009005929988"
   ],
   "metadata": {
    "collapsed": false,
    "pycharm": {
     "name": "#%%\n"
    }
   }
  },
  {
   "cell_type": "code",
   "execution_count": 89,
   "outputs": [],
   "source": [
    "x1 = np.linspace(x1_min, x1_max, nc)\n",
    "x2 = np.linspace(x2_min, x2_max, nc)\n",
    "x3 = np.linspace(x3_min, x3_max, nc)"
   ],
   "metadata": {
    "collapsed": false,
    "pycharm": {
     "name": "#%%\n"
    }
   }
  },
  {
   "cell_type": "code",
   "execution_count": 90,
   "outputs": [
    {
     "name": "stderr",
     "output_type": "stream",
     "text": [
      "/var/folders/ww/rzgcz9mj4d3fzmgml3jvp3dh0000gn/T/ipykernel_64246/1595397560.py:62: RuntimeWarning: divide by zero encountered in log10\n",
      "  lfreq = np.log10(freq)\n",
      "/var/folders/ww/rzgcz9mj4d3fzmgml3jvp3dh0000gn/T/ipykernel_64246/1595397560.py:62: RuntimeWarning: invalid value encountered in log10\n",
      "  lfreq = np.log10(freq)\n"
     ]
    }
   ],
   "source": [
    "for ir, run_id in enumerate(run_ids):\n",
    "    slope = []\n",
    "    for idata in ndata[ir]:\n",
    "        data_fname = data_dir / run_id / f'{data_fbase}.{idata:0>4d}.flt'\n",
    "\n",
    "        hydro = np.fromfile(data_fname, dtype=np.float32).reshape((nvar, grid[2], grid[1], grid[0]))\n",
    "        density1 = hydro[0, 45:83, 45:83, 77:115]\n",
    "        density2 = hydro[0, 45:83, 77:115, 45:83]\n",
    "        density3 = hydro[0, 45:83, 45:83, 13:51]\n",
    "        density4 = hydro[0, 45:83, 13:51, 45:83]\n",
    "\n",
    "        time = np.arange(idata+1) * fnum2year\n",
    "\n",
    "        # 密度のfftの３次元arrayを１次元arrayに変換する。\n",
    "\n",
    "        kpower1 = FFT(density1)\n",
    "        kpower2 = FFT(density2)\n",
    "        kpower3 = FFT(density3)\n",
    "        kpower4 = FFT(density4)\n",
    "\n",
    "        kpower = (kpower1 + kpower2 + kpower3 + kpower4) / 4\n",
    "\n",
    "        # 波数を定義する。\n",
    "\n",
    "        freq = np.fft.fftfreq(38, d=dx1)\n",
    "\n",
    "        # 波数と密度fftの両対数グラフをプロットする。\n",
    "\n",
    "        '''\n",
    "        print(f'Processing box 1 snapshot {idata} ... ', end='', flush=True)\n",
    "        fig, axs = pl.subplots(3, 3, sharex=True, sharey=True, subplot_kw={'xticks': [], 'yticks': []}, gridspec_kw={'wspace':0, 'hspace':0}, figsize=(7, 7))\n",
    "        pl.sca(axs[0, 0])\n",
    "        pl.imshow(np.log10(density1[0,:,:]), cmap=cm.jet, vmin=-1, vmax=4)\n",
    "        pl.sca(axs[0, 1])\n",
    "        pl.imshow(np.log10(density1[:,0,:]), cmap=cm.jet)\n",
    "        pl.sca(axs[0, 2])\n",
    "        pl.imshow(np.log10(density1[:,:,0]), cmap=cm.jet)\n",
    "        pl.sca(axs[1, 0])\n",
    "        pl.imshow(np.log10(density1[-1,:,:]), cmap=cm.jet)\n",
    "        pl.sca(axs[1, 1])\n",
    "        pl.imshow(np.log10(density1[:,-1,:]), cmap=cm.jet)\n",
    "        pl.sca(axs[1, 2])\n",
    "        pl.imshow(np.log10(density1[:,:,-1]), cmap=cm.jet)\n",
    "        pl.sca(axs[2, 0])\n",
    "        pl.imshow(np.log10(density1[19,:,:]), cmap=cm.jet)\n",
    "        pl.sca(axs[2, 1])\n",
    "        pl.imshow(np.log10(density1[:,19,:]), cmap=cm.jet)\n",
    "        pl.sca(axs[2, 2])\n",
    "        pl.imshow(np.log10(density1[:,:,19]), cmap=cm.jet)\n",
    "        pl.savefig(f'box_sides_density/rho_box_1_{idata:04d}.jpeg', bbox_inches='tight')\n",
    "        pl.close(fig)\n",
    "        print(f'done.')\n",
    "        '''\n",
    "\n",
    "        #pl.figure()\n",
    "        #pl.ylim(5.2, 7.2)\n",
    "        #pl.xlabel(r'log $k$')\n",
    "        #pl.ylabel(r'log (density_fft)')\n",
    "        # pl.text(0.5, 7.0, f'$t$ = {time[idata] / 1000 :05.2f}')\n",
    "        # pl.text(0.7, 7.0, '[kyr]')\n",
    "        #\n",
    "        lfreq = np.log10(freq)\n",
    "        lpow = np.log10(kpower)\n",
    "        #pl.scatter(lfreq, lpow, label=f'log (kpower)')\n",
    "        #pl.savefig(f'local_density_fft{idata:04d}.jpeg', dpi=300)\n",
    "\n",
    "        #　フィッティングする範囲を決めて、最小二乗法を用いて一次関数でフィッティングする。\n",
    "\n",
    "        s_fit = np.s_[3:19]\n",
    "\n",
    "        pf = np.polyfit(lfreq[s_fit], lpow[s_fit], 1)\n",
    "        pol = np.poly1d(pf)\n",
    "\n",
    "        #pl.plot(lfreq[s_fit], pol(lfreq[s_fit]), lw=3, c='orange', label='fitted')\n",
    "        #pl.legend()\n",
    "\n",
    "        # 時間ごとのフィッティング関数の傾きのリストを作る。\n",
    "\n",
    "        slope.append(pf[0])"
   ],
   "metadata": {
    "collapsed": false,
    "pycharm": {
     "name": "#%%\n"
    }
   }
  },
  {
   "cell_type": "code",
   "execution_count": 91,
   "outputs": [
    {
     "data": {
      "text/plain": "Text(0, 0.5, 'exponents of power spectrum')"
     },
     "execution_count": 91,
     "metadata": {},
     "output_type": "execute_result"
    },
    {
     "data": {
      "text/plain": "<Figure size 432x288 with 1 Axes>",
      "image/png": "[encoded data removed]"
     },
     "metadata": {
      "needs_background": "light"
     },
     "output_type": "display_data"
    }
   ],
   "source": [
    "pl.plot(time / 1000, slope)\n",
    "\n",
    "pl.xlabel(r'$t$ [ kyr ]')\n",
    "pl.ylabel(r'exponents of power spectrum')"
   ],
   "metadata": {
    "collapsed": false,
    "pycharm": {
     "name": "#%%\n"
    }
   }
  },
  {
   "cell_type": "code",
   "execution_count": 78,
   "outputs": [
    {
     "name": "stderr",
     "output_type": "stream",
     "text": [
      "ffmpeg version 4.2.2 Copyright (c) 2000-2019 the FFmpeg developers\n",
      "  built with clang version 4.0.1 (tags/RELEASE_401/final)\n",
      "  configuration: --prefix=/Users/satoukakeru/opt/anaconda3 --cc=x86_64-apple-darwin13.4.0-clang --disable-doc --enable-avresample --enable-gmp --enable-hardcoded-tables --enable-libfreetype --enable-libvpx --enable-pthreads --enable-libopus --enable-postproc --enable-pic --enable-pthreads --enable-shared --enable-static --enable-version3 --enable-zlib --enable-libmp3lame --disable-nonfree --enable-gpl --enable-gnutls --disable-openssl --enable-libopenh264 --enable-libx264\n",
      "  libavutil      56. 31.100 / 56. 31.100\n",
      "  libavcodec     58. 54.100 / 58. 54.100\n",
      "  libavformat    58. 29.100 / 58. 29.100\n",
      "  libavdevice    58.  8.100 / 58.  8.100\n",
      "  libavfilter     7. 57.100 /  7. 57.100\n",
      "  libavresample   4.  0.  0 /  4.  0.  0\n",
      "  libswscale      5.  5.100 /  5.  5.100\n",
      "  libswresample   3.  5.100 /  3.  5.100\n",
      "  libpostproc    55.  5.100 / 55.  5.100\n",
      "Input #0, image2, from './box_sides_density/rho_box_1_%04d.jpeg':\n",
      "  Duration: 00:00:12.08, start: 0.000000, bitrate: N/A\n",
      "    Stream #0:0: Video: mjpeg (Baseline), yuvj420p(pc, bt470bg/unknown/unknown), 405x398 [SAR 72:72 DAR 405:398], 25 fps, 25 tbr, 25 tbn, 25 tbc\n",
      "Stream mapping:\n",
      "  Stream #0:0 (mjpeg) -> crop\n",
      "  crop -> Stream #0:0 (libx264)\n",
      "Press [q] to stop, [?] for help\n",
      "[libx264 @ 0x7fbc8000ac00] using SAR=1/1\n",
      "[libx264 @ 0x7fbc8000ac00] using cpu capabilities: MMX2 SSE2Fast SSSE3 SSE4.2 AVX FMA3 BMI2 AVX2\n",
      "[libx264 @ 0x7fbc8000ac00] profile High, level 2.1, 4:2:0, 8-bit\n",
      "[libx264 @ 0x7fbc8000ac00] 264 - core 157 - H.264/MPEG-4 AVC codec - Copyleft 2003-2018 - http://www.videolan.org/x264.html - options: cabac=1 ref=3 deblock=1:0:0 analyse=0x3:0x113 me=hex subme=7 psy=1 psy_rd=1.00:0.00 mixed_ref=1 me_range=16 chroma_me=1 trellis=1 8x8dct=1 cqm=0 deadzone=21,11 fast_pskip=1 chroma_qp_offset=-2 threads=6 lookahead_threads=1 sliced_threads=0 nr=0 decimate=1 interlaced=0 bluray_compat=0 constrained_intra=0 bframes=3 b_pyramid=2 b_adapt=1 b_bias=0 direct=1 weightb=1 open_gop=0 weightp=2 keyint=250 keyint_min=25 scenecut=40 intra_refresh=0 rc_lookahead=40 rc=crf mbtree=1 crf=23.0 qcomp=0.60 qpmin=0 qpmax=69 qpstep=4 ip_ratio=1.40 aq=1:1.00\n",
      "Output #0, mp4, to 'box_sides_density_movie5.mp4':\n",
      "  Metadata:\n",
      "    encoder         : Lavf58.29.100\n",
      "    Stream #0:0: Video: h264 (libx264) (avc1 / 0x31637661), yuvj420p(pc), 404x398 [SAR 72:72 DAR 202:199], q=-1--1, 25 fps, 12800 tbn, 25 tbc\n",
      "    Metadata:\n",
      "      encoder         : Lavc58.54.100 libx264\n",
      "    Side data:\n",
      "      cpb: bitrate max/min/avg: 0/0/0 buffer size: 0 vbv_delay: -1\n",
      "frame=  302 fps= 59 q=-1.0 Lsize=    2393kB time=00:00:11.96 bitrate=1639.2kbits/s speed=2.33x    \n",
      "video:2391kB audio:0kB subtitle:0kB other streams:0kB global headers:0kB muxing overhead: 0.086667%\n",
      "[libx264 @ 0x7fbc8000ac00] frame I:2     Avg QP:25.93  size: 43768\n",
      "[libx264 @ 0x7fbc8000ac00] frame P:299   Avg QP:26.69  size:  7893\n",
      "[libx264 @ 0x7fbc8000ac00] frame B:1     Avg QP:32.94  size:   206\n",
      "[libx264 @ 0x7fbc8000ac00] consecutive B-frames: 99.3%  0.7%  0.0%  0.0%\n",
      "[libx264 @ 0x7fbc8000ac00] mb I  I16..4:  3.5% 65.2% 31.4%\n",
      "[libx264 @ 0x7fbc8000ac00] mb P  I16..4:  0.1%  0.1%  0.0%  P16..4: 51.3% 18.6% 19.8%  0.0%  0.0%    skip:10.1%\n",
      "[libx264 @ 0x7fbc8000ac00] mb B  I16..4:  0.0%  0.0%  0.0%  B16..8: 16.6%  0.2%  0.0%  direct: 0.0%  skip:83.2%  L0: 8.3% L1:91.7% BI: 0.0%\n",
      "[libx264 @ 0x7fbc8000ac00] 8x8 transform intra:62.3% inter:71.0%\n",
      "[libx264 @ 0x7fbc8000ac00] coded y,uvDC,uvAC intra: 70.2% 88.1% 84.0% inter: 48.1% 83.0% 59.5%\n",
      "[libx264 @ 0x7fbc8000ac00] i16 v,h,dc,p: 47% 40% 12%  0%\n",
      "[libx264 @ 0x7fbc8000ac00] i8 v,h,dc,ddl,ddr,vr,hd,vl,hu: 24% 20% 17%  7%  6%  6%  8%  6%  7%\n",
      "[libx264 @ 0x7fbc8000ac00] i4 v,h,dc,ddl,ddr,vr,hd,vl,hu: 29% 33% 16%  4%  4%  3%  4%  3%  4%\n",
      "[libx264 @ 0x7fbc8000ac00] i8c dc,h,v,p: 35% 22% 31% 12%\n",
      "[libx264 @ 0x7fbc8000ac00] Weighted P-Frames: Y:0.0% UV:0.0%\n",
      "[libx264 @ 0x7fbc8000ac00] ref P L0: 76.4% 21.8%  1.6%  0.2%\n",
      "[libx264 @ 0x7fbc8000ac00] ref B L0: 77.8% 22.2%\n",
      "[libx264 @ 0x7fbc8000ac00] kb/s:1621.04\n"
     ]
    },
    {
     "data": {
      "text/plain": "(None, None)"
     },
     "execution_count": 78,
     "metadata": {},
     "output_type": "execute_result"
    }
   ],
   "source": [
    "stream = fp.input(\"./box_sides_density/rho_box_1_%04d.jpeg\")\n",
    "stream = fp.filter(stream, \"crop\", w=\"trunc(iw/2)*2\", h=\"trunc(ih/2)*2\")\n",
    "# stream = fp.crop(stream, 0, 0, int(iw/2)*2, trunc(ih/2)*2)\n",
    "stream = fp.output(stream, \"box_sides_density_movie5.mp4\")\n",
    "fp.run(stream)"
   ],
   "metadata": {
    "collapsed": false,
    "pycharm": {
     "name": "#%%\n"
    }
   }
  },
  {
   "cell_type": "code",
   "execution_count": 66,
   "outputs": [
    {
     "data": {
      "text/plain": "output(filename='box_sides_density_movie.mp4')[None] <1384b0433732>"
     },
     "execution_count": 66,
     "metadata": {},
     "output_type": "execute_result"
    }
   ],
   "source": [],
   "metadata": {
    "collapsed": false,
    "pycharm": {
     "name": "#%%\n"
    }
   }
  },
  {
   "cell_type": "code",
   "execution_count": null,
   "outputs": [],
   "source": [],
   "metadata": {
    "collapsed": false,
    "pycharm": {
     "name": "#%%\n"
    }
   }
  }
 ],
 "metadata": {
  "kernelspec": {
   "display_name": "Python 3",
   "language": "python",
   "name": "python3"
  },
  "language_info": {
   "codemirror_mode": {
    "name": "ipython",
    "version": 2
   },
   "file_extension": ".py",
   "mimetype": "text/x-python",
   "name": "python",
   "nbconvert_exporter": "python",
   "pygments_lexer": "ipython2",
   "version": "2.7.6"
  }
 },
 "nbformat": 4,
 "nbformat_minor": 0
}