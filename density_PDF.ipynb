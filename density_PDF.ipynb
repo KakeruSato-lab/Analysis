{
 "cells": [
  {
   "cell_type": "code",
   "execution_count": 94,
   "outputs": [],
   "source": [
    "import numpy as np\n",
    "import matplotlib.pyplot as pl\n",
    "import matplotlib.cm as cm\n",
    "from pathlib import Path\n",
    "import norm\n",
    "import physconst as pc\n",
    "from vtk_reader import read_vtk\n",
    "import ffmpeg as fp"
   ],
   "metadata": {
    "collapsed": false,
    "pycharm": {
     "name": "#%%\n"
    }
   }
  },
  {
   "cell_type": "code",
   "execution_count": 95,
   "outputs": [],
   "source": [
    "data_dir = Path('/Users/satoukakeru/lab/Jet_Torus/runs')\n",
    "#run_ids = ['00a', '00a2']\n",
    "run_ids = ['00a2']\n",
    "fname = 'accretion_rate.dat'"
   ],
   "metadata": {
    "collapsed": false,
    "pycharm": {
     "name": "#%%\n"
    }
   }
  },
  {
   "cell_type": "code",
   "execution_count": 214,
   "outputs": [],
   "source": [
    "data_fbase = 'data'\n",
    "data_type = 'flt'\n",
    "nc = 128\n",
    "#ndata = [116, 302]\n",
    "ndata = [range(300, 302)]\n",
    "grid = [nc, nc, nc]\n",
    "nvar = 7\n",
    "x1_min, x1_max = -5., 5.  # code units\n",
    "x2_min, x2_max = -5., 5.  # code units\n",
    "x3_min, x3_max = -5., 5.  # code units\n",
    "dx1 = (x1_max - x1_min) / grid[0]\n",
    "dx2 = (x2_max - x2_min) / grid[1]\n",
    "dx3 = (x3_max - x3_min) / grid[2]\n",
    "cell_volume = dx1 * dx2 * dx3\n",
    "\n",
    "do_dens_cut = True\n",
    "\n",
    "nm = norm.PhysNorm(x=pc.pc, v=pc.c, dens=0.60364*pc.amu, temp=pc.c*pc.c*pc.amu/pc.kboltz, curr=1.)\n",
    "fnum2year = nm.t / pc.yr * 24.5009005929988"
   ],
   "metadata": {
    "collapsed": false,
    "pycharm": {
     "name": "#%%\n"
    }
   }
  },
  {
   "cell_type": "code",
   "execution_count": 215,
   "outputs": [],
   "source": [
    "osph = 0.45\n",
    "x1 = np.linspace(x1_min, x1_max, nc)\n",
    "x2 = np.linspace(x2_min, x2_max, nc)\n",
    "x3 = np.linspace(x3_min, x3_max, nc)\n",
    "x1g, x2g, x3g = np.meshgrid(x1, x2, x3, sparse=True)\n",
    "r2 = x1g * x1g + x2g * x2g + x3g * x3g"
   ],
   "metadata": {
    "collapsed": false,
    "pycharm": {
     "name": "#%%\n"
    }
   }
  },
  {
   "cell_type": "code",
   "execution_count": 219,
   "outputs": [
    {
     "data": {
      "text/plain": "<Figure size 432x288 with 1 Axes>",
      "image/png": "[encoded data removed]"
     },
     "metadata": {
      "needs_background": "light"
     },
     "output_type": "display_data"
    },
    {
     "data": {
      "text/plain": "<Figure size 432x288 with 1 Axes>",
      "image/png": "[encoded data removed]"
     },
     "metadata": {
      "needs_background": "light"
     },
     "output_type": "display_data"
    }
   ],
   "source": [
    "for ir, run_id in enumerate(run_ids):\n",
    "    for idata in ndata[ir]:\n",
    "        data_fname = data_dir / run_id / f'{data_fbase}.{idata:0>4d}.{data_type}'\n",
    "\n",
    "        if data_type == 'flt':\n",
    "            hydro = np.fromfile(data_fname, dtype=np.float32).reshape((nvar, grid[2], grid[1], grid[0]))\n",
    "            density = hydro[0, :, :, :]\n",
    "            density_cut = np.ma.masked_where(r2<osph*osph, density)\n",
    "            if do_dens_cut:\n",
    "                density_cut = np.ma.masked_less(density_cut, 1)\n",
    "\n",
    "        elif data_type == 'vtk':\n",
    "            with open(data_fname, 'rb') as fp:\n",
    "                hydro = read_vtk(fp, grid[0], grid[1], grid[2])\n",
    "\n",
    "        mass = np.sum(density_cut) * cell_volume * nm.m / pc.msun\n",
    "        volume = cell_volume * grid[0] * grid[1] * grid[2]\n",
    "        unweighted_dens = density_cut * cell_volume\n",
    "        weighted_dens = density_cut * (density_cut * cell_volume * nm.m / pc.msun)\n",
    "        ldens = np.log10(weighted_dens)\n",
    "\n",
    "        a = np.histogram(ldens, bins=50, density=True)\n",
    "        x = (a[1] - ((a[1][1] - a[1][0]) / 2))[1:]\n",
    "        y = a[0]\n",
    "\n",
    "        pl.figure()\n",
    "        pl.plot(x, y)\n",
    "        pl.xlabel(r'log $\\rho$(weighted by mass)')\n",
    "        pl.ylabel(r'PDF($\\rho$)')\n",
    "\n",
    "    time = np.arange(idata+1) * fnum2year"
   ],
   "metadata": {
    "collapsed": false,
    "pycharm": {
     "name": "#%%\n"
    }
   }
  },
  {
   "cell_type": "code",
   "execution_count": null,
   "outputs": [],
   "source": [],
   "metadata": {
    "collapsed": false,
    "pycharm": {
     "name": "#%%\n"
    }
   }
  }
 ],
 "metadata": {
  "kernelspec": {
   "display_name": "Python 3",
   "language": "python",
   "name": "python3"
  },
  "language_info": {
   "codemirror_mode": {
    "name": "ipython",
    "version": 2
   },
   "file_extension": ".py",
   "mimetype": "text/x-python",
   "name": "python",
   "nbconvert_exporter": "python",
   "pygments_lexer": "ipython2",
   "version": "2.7.6"
  }
 },
 "nbformat": 4,
 "nbformat_minor": 0
}