{
 "cells": [
  {
   "cell_type": "code",
   "execution_count": 13,
   "outputs": [],
   "source": [
    "import numpy as np\n",
    "import matplotlib.pyplot as pl\n",
    "import matplotlib.cm as cm\n",
    "from pathlib import Path\n",
    "import norm\n",
    "import physconst as pc\n",
    "from vtk_reader import read_vtk"
   ],
   "metadata": {
    "collapsed": false,
    "pycharm": {
     "name": "#%%\n"
    }
   }
  },
  {
   "cell_type": "code",
   "execution_count": 14,
   "outputs": [],
   "source": [
    "data_dir = Path('/Users/satoukakeru/lab/Jet_Torus/runs')\n",
    "run_ids1 = ['00a']\n",
    "run_ids2 = ['00a2']\n",
    "fname = 'accretion_rate.dat'"
   ],
   "metadata": {
    "collapsed": false,
    "pycharm": {
     "name": "#%%\n"
    }
   }
  },
  {
   "cell_type": "code",
   "execution_count": 15,
   "outputs": [],
   "source": [
    "data_fbase = 'data'\n",
    "data_type = 'flt'\n",
    "nc = 128\n",
    "ndata1 = [116]\n",
    "ndata2 = [302]\n",
    "grid = [nc, nc, nc]\n",
    "nvar = 7\n",
    "x1_min, x1_max = -5., 5.  # code units\n",
    "x2_min, x2_max = -5., 5.  # code units\n",
    "x3_min, x3_max = -5., 5.  # code units\n",
    "dx1 = (x1_max - x1_min) / grid[0]\n",
    "dx2 = (x2_max - x2_min) / grid[1]\n",
    "dx3 = (x3_max - x3_min) / grid[2]\n",
    "cell_volume = dx1 * dx2 * dx3\n",
    "\n",
    "nm = norm.PhysNorm(x=pc.pc, v=pc.c, dens=0.60364*pc.amu, temp=pc.c*pc.c*pc.amu/pc.kboltz, curr=1.)\n",
    "fnum2year1 = nm.t / pc.yr * 24.5009005929988 * 10\n",
    "fnum2year2 = nm.t / pc.yr * 24.5009005929988"
   ],
   "metadata": {
    "collapsed": false,
    "pycharm": {
     "name": "#%%\n"
    }
   }
  },
  {
   "cell_type": "code",
   "execution_count": 16,
   "outputs": [],
   "source": [
    "osph = 0.45\n",
    "x1 = np.linspace(x1_min, x1_max, nc)\n",
    "x2 = np.linspace(x2_min, x2_max, nc)\n",
    "x3 = np.linspace(x3_min, x3_max, nc)\n",
    "x1g, x2g, x3g = np.meshgrid(x1, x2, x3, sparse=True)\n",
    "r2 = x1g * x1g + x2g * x2g + x3g * x3g"
   ],
   "metadata": {
    "collapsed": false,
    "pycharm": {
     "name": "#%%\n"
    }
   }
  },
  {
   "cell_type": "code",
   "execution_count": 33,
   "outputs": [],
   "source": [
    "mass1 = []\n",
    "for ir, run_id1 in enumerate(run_ids1):\n",
    "    for idata1 in range(ndata1[ir]):\n",
    "        data_fname = data_dir / run_id1 / f'{data_fbase}.{idata1:0>4d}.{data_type}'\n",
    "\n",
    "        if data_type == 'flt':\n",
    "            hydro = np.fromfile(data_fname, dtype=np.float32).reshape((nvar, grid[2], grid[1], grid[0]))\n",
    "            density1 = hydro[0, :, :, :]\n",
    "            density_cut1 = np.ma.masked_less(density1, 0.3)\n",
    "            #density_cut1 = np.ma.masked_where(r2<osph*osph, density_cut1)\n",
    "\n",
    "        elif data_type == 'vtk':\n",
    "            with open(data_fname, 'rb') as fp:\n",
    "                hydro = read_vtk(fp, grid[0], grid[1], grid[2])\n",
    "\n",
    "        mass1.append(np.sum(density_cut1) * cell_volume * nm.m / pc.msun)\n",
    "\n",
    "    time1 = np.arange(idata1+1) * fnum2year1"
   ],
   "metadata": {
    "collapsed": false,
    "pycharm": {
     "name": "#%%\n"
    }
   }
  },
  {
   "cell_type": "code",
   "execution_count": 34,
   "outputs": [],
   "source": [
    "mass2 = []\n",
    "for ir, run_id2 in enumerate(run_ids2):\n",
    "    for idata2 in range(ndata2[ir]):\n",
    "        data_fname = data_dir / run_id2 / f'{data_fbase}.{idata2:0>4d}.{data_type}'\n",
    "\n",
    "        if data_type == 'flt':\n",
    "            hydro = np.fromfile(data_fname, dtype=np.float32).reshape((nvar, grid[2], grid[1], grid[0]))\n",
    "            density2 = hydro[0, :, :, :]\n",
    "            density_cut2 = np.ma.masked_less(density2, 0.3)\n",
    "            #density_cut2 = np.ma.masked_where(r2<osph*osph, density_cut2)\n",
    "\n",
    "        elif data_type == 'vtk':\n",
    "            with open(data_fname, 'rb') as fp:\n",
    "                hydro = read_vtk(fp, grid[0], grid[1], grid[2])\n",
    "\n",
    "        mass2.append(np.sum(density_cut2) * cell_volume * nm.m / pc.msun)\n",
    "\n",
    "    time2 = np.arange(idata2+1) * fnum2year2"
   ],
   "metadata": {
    "collapsed": false,
    "pycharm": {
     "name": "#%%\n"
    }
   }
  },
  {
   "cell_type": "code",
   "execution_count": 35,
   "outputs": [
    {
     "data": {
      "text/plain": "<Figure size 432x288 with 1 Axes>",
      "image/png": "[encoded data removed]"
     },
     "metadata": {
      "needs_background": "light"
     },
     "output_type": "display_data"
    }
   ],
   "source": [
    "pl.plot(time1[:] / 1000., mass1, label=f'{run_id1}')\n",
    "pl.plot(time2[:] / 1000., mass2, label=f'{run_id2}')\n",
    "\n",
    "pl.xlabel(r'$t$ [ kyr ]')\n",
    "pl.ylabel(r'total mass [ M$_\\odot$]')\n",
    "#pl.ylim(0.0, 0.2)\n",
    "pl.legend()\n",
    "pl.grid()\n",
    "pl.savefig('total_mass_0.3.png', dpi=300, bbox_inches='tight')"
   ],
   "metadata": {
    "collapsed": false,
    "pycharm": {
     "name": "#%%\n"
    }
   }
  },
  {
   "cell_type": "code",
   "execution_count": 20,
   "outputs": [
    {
     "data": {
      "text/plain": "<Figure size 432x288 with 0 Axes>"
     },
     "metadata": {},
     "output_type": "display_data"
    }
   ],
   "source": [],
   "metadata": {
    "collapsed": false,
    "pycharm": {
     "name": "#%%\n"
    }
   }
  },
  {
   "cell_type": "code",
   "execution_count": null,
   "outputs": [],
   "source": [],
   "metadata": {
    "collapsed": false,
    "pycharm": {
     "name": "#%%\n"
    }
   }
  }
 ],
 "metadata": {
  "kernelspec": {
   "display_name": "Python 3",
   "language": "python",
   "name": "python3"
  },
  "language_info": {
   "codemirror_mode": {
    "name": "ipython",
    "version": 2
   },
   "file_extension": ".py",
   "mimetype": "text/x-python",
   "name": "python",
   "nbconvert_exporter": "python",
   "pygments_lexer": "ipython2",
   "version": "2.7.6"
  }
 },
 "nbformat": 4,
 "nbformat_minor": 0
}